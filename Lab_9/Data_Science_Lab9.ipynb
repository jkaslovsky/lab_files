{
 "cells": [
  {
   "cell_type": "markdown",
   "metadata": {},
   "source": [
    "# CS 109A/AC 209A/STAT 121A Data Science: Lab 9\n",
    "\n",
    "**Harvard University**<br>\n",
    "**Fall 2016**<br>\n",
    "**Instructors: W. Pan, P. Protopapas, K. Rader**<br>\n",
    "**Due Date: ** Wednesday, November 16th, 2016 at 11:59pm"
   ]
  },
  {
   "cell_type": "markdown",
   "metadata": {},
   "source": [
    "Import libraries"
   ]
  },
  {
   "cell_type": "code",
   "execution_count": 3,
   "metadata": {
    "collapsed": false,
    "scrolled": true
   },
   "outputs": [],
   "source": [
    "import numpy as np\n",
    "import pandas as pd\n",
    "import scipy as sp\n",
    "from sklearn import linear_model\n",
    "from sklearn.decomposition import PCA\n",
    "from sklearn.cross_validation import KFold\n",
    "from sklearn import svm\n",
    "import matplotlib\n",
    "import matplotlib.pyplot as plt\n",
    "\n",
    "%matplotlib inline"
   ]
  },
  {
   "cell_type": "markdown",
   "metadata": {},
   "source": [
    "## Problem 1: Remote Sensing Revisited\n",
    "\n",
    "In this problem we revisit applications of classification, with the purpose of comparing the performance of support vector classifiers with other classifiers we have learned. We'll begin with the aeriel vegetation detection problem from Homework #7.\n",
    "\n",
    "The data is contained in `dataset_1_train.txt`, `dataset_1_test.txt` and `dataset_2_train.txt`, `dataset_2_test.txt` (you are encouraged to use the datasets from Homework #7 as well). The first two columns of the data contains the latitude and longitudes of randomly sampled locations in the satellite image, and the last column contains a label indicating whether the location contains vegetation (1 denotes the presence of vegetation and 0 denotes otherwise). The task is to, again, identify the vegetation regions in the image.\n",
    "\n",
    "Again, we provide you with a function `plot_decision_boundary` to visualize the decision boundary of a classifier."
   ]
  },
  {
   "cell_type": "code",
   "execution_count": 4,
   "metadata": {
    "collapsed": true
   },
   "outputs": [],
   "source": [
    "#--------  plot_decision_boundary\n",
    "# A function that visualizes the data and the decision boundaries\n",
    "# Input: \n",
    "#      x (predictors)\n",
    "#      y (labels)\n",
    "#      model (classifier)\n",
    "#      poly_flag (fits quadratic model if true, otherwise linear)\n",
    "#      title (title for plot)\n",
    "#      ax (a set of axes to plot on)\n",
    "# Returns: \n",
    "#      ax (axes with data and decision boundaries)\n",
    "\n",
    "def plot_decision_boundary(x, y, model, title, ax, bounds=(0, 1), poly_flag=False):\n",
    "    # Plot data\n",
    "    ax.scatter(x[y == 1, 0], x[y == 1, 1], c='green')\n",
    "    ax.scatter(x[y == 0, 0], x[y == 0, 1], c='white')\n",
    "    \n",
    "    # Create mesh\n",
    "    interval = np.arange(bounds[0], bounds[1], 0.01)\n",
    "    n = np.size(interval)\n",
    "    x1, x2 = np.meshgrid(interval, interval)\n",
    "    x1 = x1.reshape(-1, 1)\n",
    "    x2 = x2.reshape(-1, 1)\n",
    "    xx = np.concatenate((x1, x2), axis=1)\n",
    "\n",
    "    # Predict on mesh points\n",
    "    if(poly_flag):\n",
    "        quad_features = preprocessing.PolynomialFeatures(degree=2)\n",
    "        xx = quad_features.fit_transform(xx)\n",
    "        \n",
    "    yy = model.predict(xx)    \n",
    "    yy = yy.reshape((n, n))\n",
    "\n",
    "    # Plot decision surface\n",
    "    x1 = x1.reshape(n, n)\n",
    "    x2 = x2.reshape(n, n)\n",
    "    ax.contourf(x1, x2, yy, alpha=0.1, cmap='Greens')\n",
    "    \n",
    "    # Label axes, set title\n",
    "    ax.set_title(title)\n",
    "    ax.set_xlabel('Latitude')\n",
    "    ax.set_ylabel('Longitude')\n",
    "    \n",
    "    return ax"
   ]
  },
  {
   "cell_type": "markdown",
   "metadata": {},
   "source": [
    "### Step 1: Load the data and explore\n",
    "\n",
    "Let's load the two datasets and visualize."
   ]
  },
  {
   "cell_type": "code",
   "execution_count": 8,
   "metadata": {
    "collapsed": false
   },
   "outputs": [
    {
     "data": {
      "image/png": "[encoded data removed]",
      "text/plain": [
       "<matplotlib.figure.Figure at 0x11445b3d0>"
      ]
     },
     "metadata": {},
     "output_type": "display_data"
    }
   ],
   "source": [
    "# Load dataset_1\n",
    "data_1 = pd.read_csv('datasets/dataset_1_train.txt', delimiter=',')\n",
    "\n",
    "# Load dataset_2\n",
    "data_2 = pd.read_csv('datasets/dataset_2_train.txt', delimiter=',')\n",
    "\n",
    "# Plot data\n",
    "fig, ax = plt.subplots(1, 2, figsize = (12, 3))\n",
    "\n",
    "#Plot dataset 1\n",
    "\n",
    "x = data_1.values[:, :-1]\n",
    "y = data_1.values[:, -1]\n",
    "\n",
    "ax[0].scatter(x[y==0, 0], x[y==0, 1], c='white', label='non vegetation')\n",
    "ax[0].scatter(x[y==1, 0], x[y==1, 1], c='green', label='vegetation')\n",
    "\n",
    "ax[0].set_xlabel('Longitude')\n",
    "ax[0].set_ylabel('Latitude')\n",
    "ax[0].set_title('Dataset 1')\n",
    "ax[0].legend(loc='best')\n",
    "\n",
    "#Plot dataset 2\n",
    "\n",
    "x = data_2.values[:, :-1]\n",
    "y = data_2.values[:, -1]\n",
    "\n",
    "ax[1].scatter(x[y==0, 0], x[y==0, 1], c='white', label='non vegetation')\n",
    "ax[1].scatter(x[y==1, 0], x[y==1, 1], c='green', label='vegetation')\n",
    "\n",
    "ax[1].set_xlabel('Longitude')\n",
    "ax[1].set_ylabel('Latitude')\n",
    "ax[1].set_title('Dataset 2')\n",
    "\n",
    "plt.show()\n"
   ]
  },
  {
   "cell_type": "markdown",
   "metadata": {},
   "source": [
    "It looks like the classes in dataset 1 is well separated, while the classes in dataset 2 is not.\n",
    "\n",
    "Visualize the decision boundaries of a SVM model and visualize **how** a SVM model creates this decision boundary (hint: identify the support vectors and think about what role they play in defining the deciison boundary).\n",
    "\n",
    "(***Experimentation suggested***)"
   ]
  },
  {
   "cell_type": "code",
   "execution_count": 6,
   "metadata": {
    "collapsed": false
   },
   "outputs": [
    {
     "data": {
      "image/png": "[encoded data removed]",
      "text/plain": [
       "<matplotlib.figure.Figure at 0x114443490>"
      ]
     },
     "metadata": {},
     "output_type": "display_data"
    }
   ],
   "source": [
    "# Load dataset_1\n",
    "x = data_1.values[:, :-1]\n",
    "y = data_1.values[:, -1]\n",
    "\n",
    "# Fit SVM model with C = 1000, linear kernel\n",
    "model = svm.SVC(C=1000, kernel='linear')\n",
    "model.fit(x, y)\n",
    "\n",
    "# Plot decision boundary\n",
    "fig, ax = plt.subplots(1, 2, figsize = (12, 3))\n",
    "ax[0] = plot_decision_boundary(x, y, model, 'dataset_1 (fit with entire data)', ax[0])\n",
    "\n",
    "# Highlight the support vectors\n",
    "# retrieve the support vector indices\n",
    "sv_indices = model.support_ \n",
    "# Highlight the support vectors\n",
    "ax[0].scatter(x[sv_indices, 0], x[sv_indices, 1], color='red', alpha=0.15, s=100) \n",
    "\n",
    "# Plot decision boundary with only support vectors\n",
    "##################################################\n",
    "\n",
    "# Highlight the support vectors\n",
    "##################################################\n",
    "\n",
    "plt.show()"
   ]
  },
  {
   "cell_type": "markdown",
   "metadata": {},
   "source": [
    "In each dataset how many possible decision boundaries are there? How does SVM choose a decision bounary? What roles do the support vectors play?\n",
    "\n",
    "### Step 2: Play with values of the parameters of the model\n",
    "\n",
    "In defining our support vector classifier, we needed to specify the parameter `C` and `kernel`. What doest the parameter `C` control?"
   ]
  },
  {
   "cell_type": "code",
   "execution_count": 9,
   "metadata": {
    "collapsed": false
   },
   "outputs": [],
   "source": [
    "#--------  fit_and_plot_svm_for_c\n",
    "# Fit and plot SVM model for value of 'C', overlayed on a scatter plot of data \n",
    "# (fit on train set and evaluate on test set)\n",
    "#\n",
    "# Input: \n",
    "#      x_train (array of train predictors)\n",
    "#      y_train (array of train responses)#      \n",
    "#      x_test (array of test predictors)\n",
    "#      y_test (array of test responses)\n",
    "#      bounds (tuple of bounds for plotting)\n",
    "#      C  (value for parameter C)\n",
    "#      ax (axes to plot on)\n",
    "\n",
    "def fit_and_plot_svm_for_c(x_train, y_train, x_test, y_test, C, ax, bounds=(0, 1)):\n",
    "    # Fit SVM model\n",
    "    model = svm.SVC(C=C, kernel='linear')\n",
    "    model.fit(x_train, y_train)\n",
    "    \n",
    "    # Train and test error\n",
    "    tr_acc = model.score(x_train, y_train)\n",
    "    ts_acc = model.score(x_test, y_test)\n",
    "\n",
    "    # Plot decision boundary\n",
    "    plot_decision_boundary(x_train, y_train, model, \\\n",
    "                           'C = ' + str(C)\\\n",
    "                           + ', train acc = ' + str(tr_acc)\\\n",
    "                           + ', test acc = ' + str(ts_acc), ax, bounds)\n",
    "    \n",
    "    # Plot support vectors\n",
    "    sv_indices = model.support_ # retrieve the support vector indices\n",
    "    ax.scatter(x_train[sv_indices, 0], x_train[sv_indices, 1], color='red', alpha=0.15, s=100) # draw circles around SVs\n",
    "    \n",
    "    return ax"
   ]
  },
  {
   "cell_type": "markdown",
   "metadata": {},
   "source": [
    "Use the function `fit_and_plot_svm_for_c` to plot the decision boundary and support vectors of SVMs for various values of C. What patterns do you notice? Can you conjucture on what role C plays in determining the decision boundary?\n",
    "\n",
    "(***Experimentation suggested***)"
   ]
  },
  {
   "cell_type": "code",
   "execution_count": 7,
   "metadata": {
    "collapsed": false
   },
   "outputs": [],
   "source": [
    "# Load train data\n",
    "data_train = np.loadtxt(\"datasets/dataset_2_train.txt\", delimiter=',')\n",
    "x_train = data_train[:, 0:-1]\n",
    "y_train = data_train[:, -1]\n",
    "\n",
    "# Load test data\n",
    "data_test = np.loadtxt(\"datasets/dataset_2_test.txt\", delimiter=',')\n",
    "x_test = data_test[:, 0:-1]\n",
    "y_test = data_test[:, -1]\n",
    "\n",
    "# Fit and plot decision boundaries for different 'C' values\n",
    "\n",
    "# Compute the test accuracy of SVM for different 'C' values\n"
   ]
  },
  {
   "cell_type": "markdown",
   "metadata": {},
   "source": [
    "### Step 3: Push your analysis further\n",
    "\n",
    "**Lingering Questions:**\n",
    "\n",
    "1. How does SVM compare with the other classifiers we know?\n",
    "2. It looks like the only decision boundaries SVM draws, so far, are lines. This is pretty limiting. Is there any way for us to change the shape of the decision boundary (how did we get logistic regression to draw curvy boundaries)? **Hint:** experiment with the `kernel` parameter in `sklearn`'s SVM model. What does the `kernel` parameter control? What is it doing to your data (draw an analogy to logistic regression with non-linear boundaries)?\n",
    "3. Which model is better for remote senseing? In this lab, we've only explored SVM. How does SVM compare with other classifiers in terms of addressing the challenges of remote sensing for land cover analysis?"
   ]
  }
 ],
 "metadata": {
  "anaconda-cloud": {},
  "kernelspec": {
   "display_name": "Python 2",
   "language": "python",
   "name": "python2"
  },
  "language_info": {
   "codemirror_mode": {
    "name": "ipython",
    "version": 2
   },
   "file_extension": ".py",
   "mimetype": "text/x-python",
   "name": "python",
   "nbconvert_exporter": "python",
   "pygments_lexer": "ipython2",
   "version": "2.7.12"
  }
 },
 "nbformat": 4,
 "nbformat_minor": 0
}
